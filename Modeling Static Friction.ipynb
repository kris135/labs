{
 "cells": [
  {
   "cell_type": "code",
   "execution_count": null,
   "metadata": {
    "collapsed": true
   },
   "outputs": [],
   "source": [
    "%matplotlib inline\n"
   ]
  },
  {
   "cell_type": "markdown",
   "metadata": {},
   "source": [
    "# Modeling Static Friction"
   ]
  },
  {
   "cell_type": "markdown",
   "metadata": {},
   "source": [
    "### Introduction:"
   ]
  },
  {
   "cell_type": "markdown",
   "metadata": {},
   "source": [
    "From everyday experience, we know that it takes a certain amount of force to overcome friction and get an object sliding. The goal of this investigation is to model the dependence of this maximum static frictional force on the mass of the object in question."
   ]
  },
  {
   "cell_type": "markdown",
   "metadata": {},
   "source": [
    "### Procedure:"
   ]
  },
  {
   "cell_type": "markdown",
   "metadata": {},
   "source": [
    "We attached a spring scale to the side of a hollow box on a level surface. Adding additional masses, we measured the amount of force it took to get the box to begin to slide. "
   ]
  },
  {
   "cell_type": "markdown",
   "metadata": {},
   "source": [
    "<figure>\n",
    "    <img src=\"img/Friction Apparatus.png\" width=400px/>\n",
    "    <figcaption style=\"text-align:center; font-size: 12px\">Fig. 1 - Sketch of the apparatus</figcaption>\n",
    "</figure>"
   ]
  },
  {
   "cell_type": "markdown",
   "metadata": {},
   "source": [
    "<figure>\n",
    "    <img src=\"img/Apparatus Photo.jpg\" width=400px/>\n",
    "    <figcaption style=\"text-align:center; font-size: 12px;\">Fig. 2 - Photo of the apparatus</figcaption>\n",
    "</figure>"
   ]
  },
  {
   "cell_type": "markdown",
   "metadata": {
    "collapsed": true
   },
   "source": [
    "### Data and Analysis:"
   ]
  },
  {
   "cell_type": "markdown",
   "metadata": {},
   "source": [
    "| $m_{added}$   | $F_{max}$ |  $F_n$|\n",
    "|-----|-------| |-----|------|  \n",
    "|700|1.86|0.566|\n",
    "|620|1.576|0.5015|\n",
    "|500|0.9|0.4045|\n",
    "|420|0.616|0.3397|\n",
    "|300|0.06|0.24270|\n",
    "|220|0.656|0.17798|\n",
    " \n",
    "| $m_{inclined added}$   |$F_{inclined max}$  | $FN_{inclined max}$ |\n",
    "|-----|-------|          |-----|-------|      |-----|-------|\n",
    "|700|2.5304|0.566|\n",
    "|620|2.31264|0.5015|\n",
    "|500|2.236|0.4045|\n",
    "|420|2.01824|0.3397|\n",
    "|300|1.9416|0.24270|\n",
    "|220|.72384|0.17798|\n",
    "\n"
   ]
  },
  {
   "cell_type": "code",
   "execution_count": null,
   "metadata": {
    "collapsed": false
   },
   "outputs": [
    {
     "name": "stdout",
     "output_type": "stream",
     "text": [
      "0.00320094339405\n",
      "0.00320094339405\n"
     ]
    }
   ],
   "source": [
    "import matplotlib.pyplot as plt\n",
    "import numpy as np\n",
    "from scipy.optimize import curve_fit\n",
    "\n",
    "m = [700,620,500,420,300,220]\n",
    "f = [1.86,1.576,0.9,0.616,0.06,0.656]\n",
    "FN = [0.566,0.5015,0.4045,0.3397,0.24270,0.17798]\n",
    "\n",
    "mm = np.linspace(0,3020,2550)\n",
    "\n",
    "def linear(x,a,b):\n",
    "    return a*x + b\n",
    "\n",
    "a, b = curve_fit(linear, m, f)[0]\n",
    "print(a)\n",
    "\n",
    "finclined = [2.5304,2.31264,2.236,2.01824,2.89248,1.421]\n",
    "FNinclined = [0.566,0.5015,0.4045,0.3397,0.24270,0.17798]\n",
    "\n",
    "a, b = curve_fit(linear, m, f)[0]\n",
    "c, d = curve_fit(linear, m, finclined)[0]\n",
    "print (a)\n",
    "\n",
    "plt.ylim(-0.5, 10)\n",
    "plt.title(\"Modeling Static Friction\")\n",
    "plt.xlabel(\"Mass Added (kg)\")\n",
    "plt.ylabel(\"Mass Friction Force\")\n",
    "plt.plot(m, f, '.')\n",
    "plt.plot(m, finclined, '.')\n",
    "\n",
    "plt.plot(mm, linear(mm, a, b), '--')\n",
    "plt.plot(mm, linear(mm, c, d), '--')\n",
    "\n",
    "plt.show()"
   ]
  },
  {
   "cell_type": "markdown",
   "metadata": {
    "collapsed": true
   },
   "source": [
    "### What we learned during this lab is that in most cases the newtons needed to pull the object corressponds with the mass. we also learned that a significant amount of force is needed to pull it up an incline. For example, when twenty grams were added to a number we knew that the decimal was .5 . what whe did was put wieghts inside of a box and measured the masses to determine the newtons required to pull the object up a 21 degree incline compared to the newtons needed to pull it across a  180 degree flat surface. The reason for the experiment was to compare the amount of force needed to pull an object whether on a flat or inclined surface."
   ]
  },
  {
   "cell_type": "code",
   "execution_count": null,
   "metadata": {
    "collapsed": true
   },
   "outputs": [],
   "source": []
  }
 ],
 "metadata": {
  "anaconda-cloud": {},
  "kernelspec": {
   "display_name": "Python 3",
   "language": "python",
   "name": "python3"
  },
  "language_info": {
   "codemirror_mode": {
    "name": "ipython",
    "version": 3
   },
   "file_extension": ".py",
   "mimetype": "text/x-python",
   "name": "python",
   "nbconvert_exporter": "python",
   "pygments_lexer": "ipython3",
   "version": "3.4.4"
  }
 },
 "nbformat": 4,
 "nbformat_minor": 1
}
